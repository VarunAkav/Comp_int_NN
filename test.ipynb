{
 "cells": [
  {
   "cell_type": "code",
   "execution_count": 1,
   "metadata": {},
   "outputs": [],
   "source": [
    "import tensorflow as tf\n",
    "import keras\n",
    "from keras.layers import *\n",
    "\n",
    "\n"
   ]
  },
  {
   "cell_type": "code",
   "execution_count": 7,
   "metadata": {},
   "outputs": [
    {
     "data": {
      "text/plain": [
       "TensorShape([1, 26, 26, 5])"
      ]
     },
     "execution_count": 7,
     "metadata": {},
     "output_type": "execute_result"
    }
   ],
   "source": [
    "input_shape = (1,28,28,3)\n",
    "x = tf.ones(input_shape)\n",
    "y = Conv2D(5,3,kernel_initializer=keras.initializers.Ones(),bias_initializer=keras.initializers.Zeros())(x)\n",
    "\n",
    "y.shape"
   ]
  },
  {
   "cell_type": "code",
   "execution_count": 8,
   "metadata": {},
   "outputs": [
    {
     "name": "stdout",
     "output_type": "stream",
     "text": [
      "tf.Tensor(91260.0, shape=(), dtype=float32)\n",
      "91260\n"
     ]
    }
   ],
   "source": [
    "print(tf.reduce_sum(y))\n",
    "print(27*26*26*5)"
   ]
  },
  {
   "cell_type": "code",
   "execution_count": 22,
   "metadata": {},
   "outputs": [
    {
     "name": "stdout",
     "output_type": "stream",
     "text": [
      "Model: \"model_7\"\n",
      "_________________________________________________________________\n",
      " Layer (type)                Output Shape              Param #   \n",
      "=================================================================\n",
      " input_6 (InputLayer)        [(None, 3, 28, 28)]       0         \n",
      "                                                                 \n",
      " conv2d_8 (Conv2D)           (None, 5, 26, 26)         140       \n",
      "                                                                 \n",
      "=================================================================\n",
      "Total params: 140\n",
      "Trainable params: 140\n",
      "Non-trainable params: 0\n",
      "_________________________________________________________________\n"
     ]
    }
   ],
   "source": [
    "inp = Input((3,28,28))\n",
    "onesInit = keras.initializers.Ones()\n",
    "zerosInit = keras.initializers.Zeros()\n",
    "outp = Conv2D(5,3,kernel_initializer=onesInit,bias_initializer=zerosInit,data_format='channels_first')(inp)\n",
    "\n",
    "m = keras.Model(inp,outp)\n",
    "m.summary()"
   ]
  },
  {
   "cell_type": "code",
   "execution_count": 30,
   "metadata": {},
   "outputs": [
    {
     "data": {
      "text/plain": [
       "{'name': 'conv2d_8',\n",
       " 'trainable': True,\n",
       " 'dtype': 'float32',\n",
       " 'filters': 5,\n",
       " 'kernel_size': (3, 3),\n",
       " 'strides': (1, 1),\n",
       " 'padding': 'valid',\n",
       " 'data_format': 'channels_first',\n",
       " 'dilation_rate': (1, 1),\n",
       " 'groups': 1,\n",
       " 'activation': 'linear',\n",
       " 'use_bias': True,\n",
       " 'kernel_initializer': {'class_name': 'Ones', 'config': {}},\n",
       " 'bias_initializer': {'class_name': 'Zeros', 'config': {}},\n",
       " 'kernel_regularizer': None,\n",
       " 'bias_regularizer': None,\n",
       " 'activity_regularizer': None,\n",
       " 'kernel_constraint': None,\n",
       " 'bias_constraint': None}"
      ]
     },
     "execution_count": 30,
     "metadata": {},
     "output_type": "execute_result"
    }
   ],
   "source": [
    "layer = m.layers[1]\n",
    "config = layer.get_config()\n",
    "config"
   ]
  },
  {
   "cell_type": "code",
   "execution_count": 31,
   "metadata": {},
   "outputs": [
    {
     "data": {
      "text/plain": [
       "91260"
      ]
     },
     "execution_count": 31,
     "metadata": {},
     "output_type": "execute_result"
    }
   ],
   "source": [
    "from functools import reduce\n",
    "\n",
    "\n",
    "channels = layer.input_shape[-1 if config['data_format'] == 'channels_last' else -3]\n",
    "kernel_nodes = reduce(lambda x,y:x*y,config['kernel_size'])\n",
    "neurons = reduce(lambda x,y:x*y,layer.output_shape[-3:])\n",
    "additions = neurons*((kernel_nodes)*channels)\n",
    "additions"
   ]
  },
  {
   "cell_type": "code",
   "execution_count": 32,
   "metadata": {},
   "outputs": [
    {
     "ename": "AttributeError",
     "evalue": "'NoneType' object has no attribute 'neurons'",
     "output_type": "error",
     "traceback": [
      "\u001b[1;31m---------------------------------------------------------------------------\u001b[0m",
      "\u001b[1;31mAttributeError\u001b[0m                            Traceback (most recent call last)",
      "\u001b[1;32mc:\\Users\\varun\\Documents\\My projects\\Comp Intensity of NN model\\test.ipynb Cell 7\u001b[0m in \u001b[0;36m<cell line: 3>\u001b[1;34m()\u001b[0m\n\u001b[0;32m      <a href='vscode-notebook-cell:/c%3A/Users/varun/Documents/My%20projects/Comp%20Intensity%20of%20NN%20model/test.ipynb#X12sZmlsZQ%3D%3D?line=0'>1</a>\u001b[0m \u001b[39mfrom\u001b[39;00m \u001b[39mNN_real_extract\u001b[39;00m \u001b[39mimport\u001b[39;00m ModelExtractor\n\u001b[1;32m----> <a href='vscode-notebook-cell:/c%3A/Users/varun/Documents/My%20projects/Comp%20Intensity%20of%20NN%20model/test.ipynb#X12sZmlsZQ%3D%3D?line=2'>3</a>\u001b[0m ext \u001b[39m=\u001b[39m ModelExtractor(\u001b[39m'\u001b[39;49m\u001b[39mModels/mnist_convnet.h5\u001b[39;49m\u001b[39m'\u001b[39;49m)\n\u001b[0;32m      <a href='vscode-notebook-cell:/c%3A/Users/varun/Documents/My%20projects/Comp%20Intensity%20of%20NN%20model/test.ipynb#X12sZmlsZQ%3D%3D?line=3'>4</a>\u001b[0m \u001b[39mprint\u001b[39m(ext\u001b[39m.\u001b[39msummary)\n",
      "File \u001b[1;32mc:\\Users\\varun\\Documents\\My projects\\Comp Intensity of NN model\\NN_real_extract.py:116\u001b[0m, in \u001b[0;36mModelExtractor.__init__\u001b[1;34m(self, modelPath)\u001b[0m\n\u001b[0;32m     94\u001b[0m \u001b[39mself\u001b[39m\u001b[39m.\u001b[39mlayerMethods \u001b[39m=\u001b[39m {\n\u001b[0;32m     95\u001b[0m     \u001b[39m'\u001b[39m\u001b[39mInputLayer\u001b[39m\u001b[39m'\u001b[39m: \u001b[39mself\u001b[39m\u001b[39m.\u001b[39minputSummary,\n\u001b[0;32m     96\u001b[0m     \u001b[39m'\u001b[39m\u001b[39mDense\u001b[39m\u001b[39m'\u001b[39m: \u001b[39mself\u001b[39m\u001b[39m.\u001b[39mdenseSummary,\n\u001b[1;32m   (...)\u001b[0m\n\u001b[0;32m    112\u001b[0m \n\u001b[0;32m    113\u001b[0m }\n\u001b[0;32m    115\u001b[0m \u001b[39mself\u001b[39m\u001b[39m.\u001b[39mmodel \u001b[39m=\u001b[39m load_model(modelPath)\n\u001b[1;32m--> 116\u001b[0m \u001b[39mself\u001b[39m\u001b[39m.\u001b[39msummary \u001b[39m=\u001b[39m \u001b[39mself\u001b[39;49m\u001b[39m.\u001b[39;49mextract(\u001b[39mself\u001b[39;49m\u001b[39m.\u001b[39;49mmodel)\n",
      "File \u001b[1;32mc:\\Users\\varun\\Documents\\My projects\\Comp Intensity of NN model\\NN_real_extract.py:140\u001b[0m, in \u001b[0;36mModelExtractor.extract\u001b[1;34m(self, model)\u001b[0m\n\u001b[0;32m    137\u001b[0m     \u001b[39mif\u001b[39;00m layer\u001b[39m.\u001b[39m\u001b[39m__class__\u001b[39m\u001b[39m.\u001b[39m\u001b[39m__name__\u001b[39m \u001b[39min\u001b[39;00m \u001b[39mself\u001b[39m\u001b[39m.\u001b[39mlayerMethods:\n\u001b[0;32m    138\u001b[0m         summary \u001b[39m=\u001b[39m \u001b[39mself\u001b[39m\u001b[39m.\u001b[39mlayerMethods[layer\u001b[39m.\u001b[39m\u001b[39m__class__\u001b[39m\u001b[39m.\u001b[39m\u001b[39m__name__\u001b[39m](\n\u001b[0;32m    139\u001b[0m             layer)\n\u001b[1;32m--> 140\u001b[0m modelSummary\u001b[39m.\u001b[39mneurons \u001b[39m+\u001b[39m\u001b[39m=\u001b[39m summary\u001b[39m.\u001b[39;49mneurons\n\u001b[0;32m    141\u001b[0m modelSummary\u001b[39m.\u001b[39madditions \u001b[39m+\u001b[39m\u001b[39m=\u001b[39m summary\u001b[39m.\u001b[39madditions\n\u001b[0;32m    142\u001b[0m modelSummary\u001b[39m.\u001b[39mmultiplications \u001b[39m+\u001b[39m\u001b[39m=\u001b[39m summary\u001b[39m.\u001b[39mmultiplications\n",
      "\u001b[1;31mAttributeError\u001b[0m: 'NoneType' object has no attribute 'neurons'"
     ]
    }
   ],
   "source": [
    "from NN_real_extract import ModelExtractor\n",
    "\n",
    "ext = ModelExtractor('Models/mnist_convnet.h5')\n",
    "print(ext.summary)"
   ]
  }
 ],
 "metadata": {
  "kernelspec": {
   "display_name": "Python 3.10.8 64-bit (microsoft store)",
   "language": "python",
   "name": "python3"
  },
  "language_info": {
   "codemirror_mode": {
    "name": "ipython",
    "version": 3
   },
   "file_extension": ".py",
   "mimetype": "text/x-python",
   "name": "python",
   "nbconvert_exporter": "python",
   "pygments_lexer": "ipython3",
   "version": "3.10.8"
  },
  "orig_nbformat": 4,
  "vscode": {
   "interpreter": {
    "hash": "101a6ff7ecee390d2e1890350f9112fbc4081685c615de8bd7d4ce8ede852617"
   }
  }
 },
 "nbformat": 4,
 "nbformat_minor": 2
}
